{
 "cells": [
  {
   "cell_type": "markdown",
   "id": "bf9e78df-931f-4baa-830a-b5640aad1ea8",
   "metadata": {},
   "source": [
    "<h1>Data Science Tools and Ecosystem </h1>"
   ]
  },
  {
   "cell_type": "markdown",
   "id": "77af0f61-486f-4aaa-a4dc-b72c7d12fa7a",
   "metadata": {},
   "source": [
    "In this notebook, Data Science Tools and Ecosystem are summarized. "
   ]
  },
  {
   "cell_type": "markdown",
   "id": "3e96e191-6b2c-4035-bf85-6a4a15e5a813",
   "metadata": {},
   "source": [
    "Some of the popular languages that Data Scientists use are:\n",
    "1. Python\n",
    "2. R\n",
    "3. Scala\n",
    "4. Julia"
   ]
  },
  {
   "cell_type": "markdown",
   "id": "bc7cc93a-f20a-4da0-a7fa-4a643501a6b7",
   "metadata": {},
   "source": [
    "Some of the commonly used libraries used by Data Scientists include:\n",
    "1. NumPy\n",
    "2. Pandas\n",
    "3. Matplotlib\n",
    "4. SciPy"
   ]
  },
  {
   "cell_type": "markdown",
   "id": "da9781a3-75aa-485d-983f-61acab8f651f",
   "metadata": {},
   "source": [
    "| Data Science Tools |\n",
    "| ------------------ |\n",
    "| Jupyter |\n",
    "| Spyder |\n",
    "| Visual Studio |"
   ]
  },
  {
   "cell_type": "markdown",
   "id": "d731d4b8-0c9b-4934-88c9-6f2f799d3c74",
   "metadata": {},
   "source": [
    "<h3> Below are a few examples of evaluating arithmetic expressions in Python. </h3>"
   ]
  },
  {
   "cell_type": "code",
   "execution_count": 2,
   "id": "28b94c19-e917-49d8-88d2-b1f71ffc603a",
   "metadata": {
    "tags": []
   },
   "outputs": [
    {
     "data": {
      "text/plain": [
       "17"
      ]
     },
     "execution_count": 2,
     "metadata": {},
     "output_type": "execute_result"
    }
   ],
   "source": [
    "# This a simple arithmetic expression to multiply then add integers.\n",
    "(3*4)+5"
   ]
  },
  {
   "cell_type": "code",
   "execution_count": 3,
   "id": "8a926000-e469-4646-99da-8ad135bf5b37",
   "metadata": {
    "tags": []
   },
   "outputs": [
    {
     "data": {
      "text/plain": [
       "3.3333333333333335"
      ]
     },
     "execution_count": 3,
     "metadata": {},
     "output_type": "execute_result"
    }
   ],
   "source": [
    "# This will convert 200 minutes to hours by dividing by 60.\n",
    "200/60"
   ]
  },
  {
   "cell_type": "markdown",
   "id": "e7288208-293a-4c8f-aaa8-fdd74ca146b9",
   "metadata": {},
   "source": [
    "<u>**Objectives**</u>\n",
    "- List Popular Languages used by Data Scientists.\n",
    "- List Popular Libraries used by Data Scientists.\n",
    "- Using basic arithmetic operations using Python language.\n",
    "- List some open-sourced IDEs for Data Science.\n",
    "- Application on basic arithmetic operations."
   ]
  }
 ],
 "metadata": {
  "kernelspec": {
   "display_name": "Python",
   "language": "python",
   "name": "conda-env-python-py"
  },
  "language_info": {
   "codemirror_mode": {
    "name": "ipython",
    "version": 3
   },
   "file_extension": ".py",
   "mimetype": "text/x-python",
   "name": "python",
   "nbconvert_exporter": "python",
   "pygments_lexer": "ipython3",
   "version": "3.7.12"
  }
 },
 "nbformat": 4,
 "nbformat_minor": 5
}
